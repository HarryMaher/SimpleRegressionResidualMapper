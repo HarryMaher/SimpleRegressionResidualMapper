{
 "cells": [
  {
   "cell_type": "code",
   "execution_count": 2,
   "metadata": {},
   "outputs": [],
   "source": [
    "import pandas as pd\n",
    "import geopandas as gpd\n",
    "import string"
   ]
  },
  {
   "cell_type": "code",
   "execution_count": 3,
   "metadata": {},
   "outputs": [],
   "source": [
    "df = pd.read_csv(\"2016_General.csv\")"
   ]
  },
  {
   "cell_type": "code",
   "execution_count": 4,
   "metadata": {},
   "outputs": [],
   "source": [
    "# Select all Race Names in 2016_General.csv\n",
    "selected = df[(df.CounterType == \"Times Counted\")]\n",
    "countdict = {}\n",
    "for race in selected.Race:\n",
    "    countdict.setdefault(race, 0)\n",
    "    countdict[race] += 1\n",
    "    \n",
    "# Find out the number of precincts in the county,\n",
    "# those that aren't \"max\" don't take place in every precinct\n",
    "total_precincts = max(countdict.values())\n",
    "\n",
    "# Select only countywide races\n",
    "county_wide_races = [race for race, count in countdict.items() if count == total_precincts]\n",
    "\n",
    "# Confusingly rename df, but only with countywide_races\n",
    "only_countywide_races = df[df.Race.isin(county_wide_races)]\n",
    "\n",
    "only_countywide_races = only_countywide_races.drop(columns = [\"LEG\", \"CC\", \"CG\", \"CounterGroup\", \"Party\"])\n"
   ]
  },
  {
   "cell_type": "code",
   "execution_count": 5,
   "metadata": {},
   "outputs": [],
   "source": [
    "# Make new column that combines \"Race\" and \"CounterType\", then drop them\n",
    "only_countywide_races[\"Race_Type\"] = only_countywide_races[\"Race\"] + \": \" + only_countywide_races[\"CounterType\"]\n",
    "only_countywide_races = only_countywide_races.drop(columns = [\"Race\", \"CounterType\"])\n",
    "\n",
    "#\n",
    "only_countywide_races = only_countywide_races.pivot(index='Precinct', columns='Race_Type', values='SumOfCount')\n",
    "\n",
    "# New Columns and drop others\n",
    "only_countywide_races[\"Registered_Voters\"] = only_countywide_races[\"Advisory Vote 14: Registered Voters\"]\n",
    "only_countywide_races[\"Total_Voters\"] = only_countywide_races[\"Advisory Vote 14: Times Counted\"]\n",
    "only_countywide_races = only_countywide_races.drop(columns = [column for column in only_countywide_races.columns if \"Registered Voters\" in column]) \n",
    "only_countywide_races = only_countywide_races.drop(columns = [column for column in only_countywide_races.columns if \"Times Counted\" in column]) \n",
    "\n",
    "\n",
    "# Bring two created columns to beginning\n",
    "cols = only_countywide_races.columns.tolist()\n",
    "cols = cols[-2:] + cols[:-2]\n",
    "only_countywide_races = only_countywide_races[cols]\n"
   ]
  },
  {
   "cell_type": "code",
   "execution_count": 6,
   "metadata": {},
   "outputs": [],
   "source": [
    "# a function to shorten field names\n",
    "\n",
    "def encode(n):\n",
    "    ''' Convert integer n to string.ascii_lowercase'''\n",
    "    if n == 0:\n",
    "        return \"a\"\n",
    "    out = []\n",
    "    while n:\n",
    "        n, r = n // 26, n % 26\n",
    "        out.append(string.ascii_lowercase[r])\n",
    "    return ''.join(out)\n",
    "\n",
    "# Create a data_dict so we know what these field names mean\n",
    "cols = only_countywide_races.columns.tolist()\n",
    "data_dict = {column_name: encode(i) for i, column_name in enumerate(cols)}\n",
    "\n",
    "with open(\"data_dictionary.csv\", \"w+\") as fh:\n",
    "    fh.write(\"O.G. value, encoded as\\n\")\n",
    "    for k, v in data_dict.items():\n",
    "        fh.write(f'{k}, {v}\\n')\n"
   ]
  },
  {
   "cell_type": "code",
   "execution_count": 7,
   "metadata": {
    "scrolled": true
   },
   "outputs": [],
   "source": [
    "# Apply our new data_dict to the data, write to csv\n",
    "only_countywide_races = only_countywide_races.rename(index = str, columns = data_dict)\n",
    "only_countywide_races.to_csv(\"csv2016.csv\")"
   ]
  },
  {
   "cell_type": "code",
   "execution_count": 15,
   "metadata": {},
   "outputs": [],
   "source": [
    "#### below here is the auto join.\n",
    "\n",
    "\n",
    "### Thing we have to worry about for our app -- normalization? based on que? More math in JS?!?! aw.\n",
    "## alt. option would be to multiply answer by what will be the divisor in the future!? \n",
    "## But too hacky? also would mess up (numbers). Not a good idea. Sigh.\n",
    "\n",
    "df = pd.read_csv(\"csv2016.csv\")\n",
    "spatial = gpd.read_file(\"KC_Precincts.geojson\")\n",
    "\n",
    "\n",
    "join_csv_to_geojson(csv_dict, geojson_dict):\n",
    "    \"\"\"\n",
    "    Take a dict containing csvs, with key being file_name.csv \n",
    "    and value being \"join on this value\" \n",
    "    \n",
    "    geojson_dict is a dict containing just one k:v :\n",
    "    {\"file_name.geojson\": \"join_on_this_value} \n",
    "    \"\"\"\n",
    "    geojson_file, geojson_join_field = list(geojson_dict.keys())[0]\n",
    "    for csv_file, csv_join_field in csv_dict.items():\n",
    "        pass\n",
    "        # do stuff\n",
    "        \n",
    "#  = spatial.merge(country_names, on='iso_a3')"
   ]
  },
  {
   "cell_type": "code",
   "execution_count": 18,
   "metadata": {},
   "outputs": [
    {
     "name": "stdout",
     "output_type": "stream",
     "text": [
      "NAME\n",
      "geometry\n"
     ]
    }
   ],
   "source": [
    "for column in spatial.columns.tolist():\n",
    "    print(column)"
   ]
  },
  {
   "cell_type": "code",
   "execution_count": 11,
   "metadata": {},
   "outputs": [],
   "source": [
    "### A section for writing index.html; all other files to folder\n",
    "## build dropdown option menu\n",
    "# for column_name, encoded_value in data_dict.items():\n",
    "#     ballot_name = \" \".join(\"\".join(column_name.replace(\"&\",\"\").replace(\"_\",\":\").split(\":\")[1:2]).split()[:3])\n",
    "#     if \"Voted\" not in ballot_name: \n",
    "#         print(f'<option value=\"{encoded_value};{ballot_name}\">{column_name}</option>')\n",
    "\n"
   ]
  },
  {
   "cell_type": "code",
   "execution_count": null,
   "metadata": {},
   "outputs": [],
   "source": []
  }
 ],
 "metadata": {
  "kernelspec": {
   "display_name": "Python [default]",
   "language": "python",
   "name": "python3"
  },
  "language_info": {
   "codemirror_mode": {
    "name": "ipython",
    "version": 3
   },
   "file_extension": ".py",
   "mimetype": "text/x-python",
   "name": "python",
   "nbconvert_exporter": "python",
   "pygments_lexer": "ipython3",
   "version": "3.6.4"
  }
 },
 "nbformat": 4,
 "nbformat_minor": 1
}
